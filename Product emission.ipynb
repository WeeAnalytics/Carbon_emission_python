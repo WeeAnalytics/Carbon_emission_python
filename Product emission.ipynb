{
 "cells": [
  {
   "cell_type": "code",
   "execution_count": 4,
   "id": "ec60bb80-a4ad-47a5-8f54-6ebb37e81e44",
   "metadata": {},
   "outputs": [],
   "source": [
    "df = pd.read_csv(\"C:/Users/kyoto/Documents/Python/Industry C02 Emissions.csv\")"
   ]
  },
  {
   "cell_type": "code",
   "execution_count": 5,
   "id": "aa9ce966-82f9-4197-81fa-59590cead1c5",
   "metadata": {
    "scrolled": true
   },
   "outputs": [
    {
     "data": {
      "text/plain": [
       "Index(['*PCF-ID', 'Year of reporting', 'Product name (and functional unit)',\n",
       "       'Company', 'Country (where company is incorporated)',\n",
       "       '*Company's sector', 'Product weight (kg)',\n",
       "       'Product's carbon footprint (PCF, kg CO2e)',\n",
       "       '*Upstream CO2e (fraction of total PCF)',\n",
       "       '*Operations CO2e (fraction of total PCF)',\n",
       "       '*Downstream CO2e (fraction of total PCF)'],\n",
       "      dtype='object')"
      ]
     },
     "execution_count": 5,
     "metadata": {},
     "output_type": "execute_result"
    }
   ],
   "source": [
    "df.columns"
   ]
  },
  {
   "cell_type": "code",
   "execution_count": 6,
   "id": "41541c8b-4c0b-4ce2-b754-677cc084a2f3",
   "metadata": {},
   "outputs": [
    {
     "data": {
      "text/html": [
       "<div>\n",
       "<style scoped>\n",
       "    .dataframe tbody tr th:only-of-type {\n",
       "        vertical-align: middle;\n",
       "    }\n",
       "\n",
       "    .dataframe tbody tr th {\n",
       "        vertical-align: top;\n",
       "    }\n",
       "\n",
       "    .dataframe thead th {\n",
       "        text-align: right;\n",
       "    }\n",
       "</style>\n",
       "<table border=\"1\" class=\"dataframe\">\n",
       "  <thead>\n",
       "    <tr style=\"text-align: right;\">\n",
       "      <th></th>\n",
       "      <th>*PCF-ID</th>\n",
       "      <th>Year of reporting</th>\n",
       "      <th>Product name (and functional unit)</th>\n",
       "      <th>Company</th>\n",
       "      <th>Country (where company is incorporated)</th>\n",
       "      <th>*Company's sector</th>\n",
       "      <th>Product weight (kg)</th>\n",
       "      <th>Product's carbon footprint (PCF, kg CO2e)</th>\n",
       "      <th>*Upstream CO2e (fraction of total PCF)</th>\n",
       "      <th>*Operations CO2e (fraction of total PCF)</th>\n",
       "      <th>*Downstream CO2e (fraction of total PCF)</th>\n",
       "    </tr>\n",
       "  </thead>\n",
       "  <tbody>\n",
       "    <tr>\n",
       "      <th>0</th>\n",
       "      <td>10056-1-2014</td>\n",
       "      <td>2014</td>\n",
       "      <td>Frosted Flakes(R) Cereal</td>\n",
       "      <td>Kellogg Company</td>\n",
       "      <td>USA</td>\n",
       "      <td>Food &amp; Beverage</td>\n",
       "      <td>0.7485</td>\n",
       "      <td>2.00</td>\n",
       "      <td>57.50%</td>\n",
       "      <td>30.00%</td>\n",
       "      <td>12.50%</td>\n",
       "    </tr>\n",
       "    <tr>\n",
       "      <th>1</th>\n",
       "      <td>10056-1-2015</td>\n",
       "      <td>2015</td>\n",
       "      <td>Frosted Flakes, 23 oz, produced in Lancaster, ...</td>\n",
       "      <td>Kellogg Company</td>\n",
       "      <td>USA</td>\n",
       "      <td>Food &amp; Beverage</td>\n",
       "      <td>0.7485</td>\n",
       "      <td>2.00</td>\n",
       "      <td>57.50%</td>\n",
       "      <td>30.00%</td>\n",
       "      <td>12.50%</td>\n",
       "    </tr>\n",
       "    <tr>\n",
       "      <th>2</th>\n",
       "      <td>10222-1-2013</td>\n",
       "      <td>2013</td>\n",
       "      <td>Office Chair</td>\n",
       "      <td>KNOLL INC</td>\n",
       "      <td>USA</td>\n",
       "      <td>Comm. equipm. &amp; capital goods</td>\n",
       "      <td>20.6800</td>\n",
       "      <td>72.54</td>\n",
       "      <td>80.63%</td>\n",
       "      <td>17.36%</td>\n",
       "      <td>2.01%</td>\n",
       "    </tr>\n",
       "  </tbody>\n",
       "</table>\n",
       "</div>"
      ],
      "text/plain": [
       "        *PCF-ID  Year of reporting  \\\n",
       "0  10056-1-2014               2014   \n",
       "1  10056-1-2015               2015   \n",
       "2  10222-1-2013               2013   \n",
       "\n",
       "                  Product name (and functional unit)          Company  \\\n",
       "0                           Frosted Flakes(R) Cereal  Kellogg Company   \n",
       "1  Frosted Flakes, 23 oz, produced in Lancaster, ...  Kellogg Company   \n",
       "2                                       Office Chair        KNOLL INC   \n",
       "\n",
       "  Country (where company is incorporated)              *Company's sector  \\\n",
       "0                                     USA                Food & Beverage   \n",
       "1                                     USA                Food & Beverage   \n",
       "2                                     USA  Comm. equipm. & capital goods   \n",
       "\n",
       "   Product weight (kg)  Product's carbon footprint (PCF, kg CO2e)  \\\n",
       "0               0.7485                                       2.00   \n",
       "1               0.7485                                       2.00   \n",
       "2              20.6800                                      72.54   \n",
       "\n",
       "  *Upstream CO2e (fraction of total PCF)  \\\n",
       "0                                 57.50%   \n",
       "1                                 57.50%   \n",
       "2                                 80.63%   \n",
       "\n",
       "  *Operations CO2e (fraction of total PCF)  \\\n",
       "0                                   30.00%   \n",
       "1                                   30.00%   \n",
       "2                                   17.36%   \n",
       "\n",
       "  *Downstream CO2e (fraction of total PCF)  \n",
       "0                                   12.50%  \n",
       "1                                   12.50%  \n",
       "2                                    2.01%  "
      ]
     },
     "execution_count": 6,
     "metadata": {},
     "output_type": "execute_result"
    }
   ],
   "source": [
    "df.head(3)"
   ]
  },
  {
   "cell_type": "markdown",
   "id": "4357f906-48b7-4f2d-943d-e98914337b66",
   "metadata": {},
   "source": [
    "Checking to see if there are any NAN values"
   ]
  },
  {
   "cell_type": "code",
   "execution_count": 7,
   "id": "4bf8b44a-497c-4987-9ec4-640d984beb7e",
   "metadata": {},
   "outputs": [
    {
     "name": "stdout",
     "output_type": "stream",
     "text": [
      "<class 'pandas.core.frame.DataFrame'>\n",
      "RangeIndex: 866 entries, 0 to 865\n",
      "Data columns (total 11 columns):\n",
      " #   Column                                     Non-Null Count  Dtype  \n",
      "---  ------                                     --------------  -----  \n",
      " 0   *PCF-ID                                    866 non-null    object \n",
      " 1   Year of reporting                          866 non-null    int64  \n",
      " 2   Product name (and functional unit)         866 non-null    object \n",
      " 3   Company                                    866 non-null    object \n",
      " 4   Country (where company is incorporated)    866 non-null    object \n",
      " 5   *Company's sector                          866 non-null    object \n",
      " 6   Product weight (kg)                        866 non-null    float64\n",
      " 7   Product's carbon footprint (PCF, kg CO2e)  866 non-null    float64\n",
      " 8   *Upstream CO2e (fraction of total PCF)     866 non-null    object \n",
      " 9   *Operations CO2e (fraction of total PCF)   866 non-null    object \n",
      " 10  *Downstream CO2e (fraction of total PCF)   866 non-null    object \n",
      "dtypes: float64(2), int64(1), object(8)\n",
      "memory usage: 74.6+ KB\n"
     ]
    }
   ],
   "source": [
    "df.info()"
   ]
  },
  {
   "cell_type": "markdown",
   "id": "cefde3b7-8ae1-47b3-922b-3fab777540ca",
   "metadata": {},
   "source": [
    "Find the latest year of reporting"
   ]
  },
  {
   "cell_type": "code",
   "execution_count": 8,
   "id": "5edb2bd6-1492-48f7-9259-bd63ac7aa657",
   "metadata": {},
   "outputs": [
    {
     "data": {
      "text/plain": [
       "array([2014, 2015, 2013, 2017, 2016], dtype=int64)"
      ]
     },
     "execution_count": 8,
     "metadata": {},
     "output_type": "execute_result"
    }
   ],
   "source": [
    "df['Year of reporting'].unique()"
   ]
  },
  {
   "cell_type": "code",
   "execution_count": 9,
   "id": "1722902f-aeac-4ab9-8f44-b3b94871940a",
   "metadata": {},
   "outputs": [],
   "source": [
    "year = df.groupby(['Year of reporting'])"
   ]
  },
  {
   "cell_type": "code",
   "execution_count": 10,
   "id": "91dace81-0bab-45c2-a03a-3c976d86b448",
   "metadata": {},
   "outputs": [],
   "source": [
    "year2017 = year.get_group(2017)"
   ]
  },
  {
   "cell_type": "code",
   "execution_count": 11,
   "id": "2d5dcbcf-48b5-4b0d-bcd0-380f94705356",
   "metadata": {},
   "outputs": [
    {
     "data": {
      "text/html": [
       "<div>\n",
       "<style scoped>\n",
       "    .dataframe tbody tr th:only-of-type {\n",
       "        vertical-align: middle;\n",
       "    }\n",
       "\n",
       "    .dataframe tbody tr th {\n",
       "        vertical-align: top;\n",
       "    }\n",
       "\n",
       "    .dataframe thead th {\n",
       "        text-align: right;\n",
       "    }\n",
       "</style>\n",
       "<table border=\"1\" class=\"dataframe\">\n",
       "  <thead>\n",
       "    <tr style=\"text-align: right;\">\n",
       "      <th></th>\n",
       "      <th>*PCF-ID</th>\n",
       "      <th>Year of reporting</th>\n",
       "      <th>Product name (and functional unit)</th>\n",
       "      <th>Company</th>\n",
       "      <th>Country (where company is incorporated)</th>\n",
       "      <th>*Company's sector</th>\n",
       "      <th>Product weight (kg)</th>\n",
       "      <th>Product's carbon footprint (PCF, kg CO2e)</th>\n",
       "      <th>*Upstream CO2e (fraction of total PCF)</th>\n",
       "      <th>*Operations CO2e (fraction of total PCF)</th>\n",
       "      <th>*Downstream CO2e (fraction of total PCF)</th>\n",
       "    </tr>\n",
       "  </thead>\n",
       "  <tbody>\n",
       "    <tr>\n",
       "      <th>3</th>\n",
       "      <td>10261-1-2017</td>\n",
       "      <td>2017</td>\n",
       "      <td>Multifunction Printers</td>\n",
       "      <td>Konica Minolta, Inc.</td>\n",
       "      <td>Japan</td>\n",
       "      <td>Computer, IT &amp; telecom</td>\n",
       "      <td>110.0</td>\n",
       "      <td>1488.0</td>\n",
       "      <td>30.65%</td>\n",
       "      <td>5.51%</td>\n",
       "      <td>63.84%</td>\n",
       "    </tr>\n",
       "    <tr>\n",
       "      <th>4</th>\n",
       "      <td>10261-2-2017</td>\n",
       "      <td>2017</td>\n",
       "      <td>Multifunction Printers</td>\n",
       "      <td>Konica Minolta, Inc.</td>\n",
       "      <td>Japan</td>\n",
       "      <td>Computer, IT &amp; telecom</td>\n",
       "      <td>110.0</td>\n",
       "      <td>1818.0</td>\n",
       "      <td>25.08%</td>\n",
       "      <td>4.51%</td>\n",
       "      <td>70.41%</td>\n",
       "    </tr>\n",
       "    <tr>\n",
       "      <th>5</th>\n",
       "      <td>10261-3-2017</td>\n",
       "      <td>2017</td>\n",
       "      <td>Multifunction Printers</td>\n",
       "      <td>Konica Minolta, Inc.</td>\n",
       "      <td>Japan</td>\n",
       "      <td>Computer, IT &amp; telecom</td>\n",
       "      <td>110.0</td>\n",
       "      <td>2274.0</td>\n",
       "      <td>20.05%</td>\n",
       "      <td>3.61%</td>\n",
       "      <td>76.34%</td>\n",
       "    </tr>\n",
       "  </tbody>\n",
       "</table>\n",
       "</div>"
      ],
      "text/plain": [
       "        *PCF-ID  Year of reporting Product name (and functional unit)  \\\n",
       "3  10261-1-2017               2017             Multifunction Printers   \n",
       "4  10261-2-2017               2017             Multifunction Printers   \n",
       "5  10261-3-2017               2017             Multifunction Printers   \n",
       "\n",
       "                Company Country (where company is incorporated)  \\\n",
       "3  Konica Minolta, Inc.                                   Japan   \n",
       "4  Konica Minolta, Inc.                                   Japan   \n",
       "5  Konica Minolta, Inc.                                   Japan   \n",
       "\n",
       "        *Company's sector  Product weight (kg)  \\\n",
       "3  Computer, IT & telecom                110.0   \n",
       "4  Computer, IT & telecom                110.0   \n",
       "5  Computer, IT & telecom                110.0   \n",
       "\n",
       "   Product's carbon footprint (PCF, kg CO2e)  \\\n",
       "3                                     1488.0   \n",
       "4                                     1818.0   \n",
       "5                                     2274.0   \n",
       "\n",
       "  *Upstream CO2e (fraction of total PCF)  \\\n",
       "3                                 30.65%   \n",
       "4                                 25.08%   \n",
       "5                                 20.05%   \n",
       "\n",
       "  *Operations CO2e (fraction of total PCF)  \\\n",
       "3                                    5.51%   \n",
       "4                                    4.51%   \n",
       "5                                    3.61%   \n",
       "\n",
       "  *Downstream CO2e (fraction of total PCF)  \n",
       "3                                   63.84%  \n",
       "4                                   70.41%  \n",
       "5                                   76.34%  "
      ]
     },
     "execution_count": 11,
     "metadata": {},
     "output_type": "execute_result"
    }
   ],
   "source": [
    "year2017.head(3)"
   ]
  },
  {
   "cell_type": "code",
   "execution_count": 12,
   "id": "bb44e47f-44d1-487a-8924-d19ef8c2714a",
   "metadata": {},
   "outputs": [
    {
     "data": {
      "text/plain": [
       "array(['Computer, IT & telecom', 'Chemicals',\n",
       "       'Comm. equipm. & capital goods',\n",
       "       'Home durables, textiles, & equipment', 'Food & Beverage'],\n",
       "      dtype=object)"
      ]
     },
     "execution_count": 12,
     "metadata": {},
     "output_type": "execute_result"
    }
   ],
   "source": [
    "year2017[\"*Company's sector\"].unique()"
   ]
  },
  {
   "cell_type": "code",
   "execution_count": 18,
   "id": "1f45e15d-dcd8-40b4-92b2-f41c6969df11",
   "metadata": {},
   "outputs": [],
   "source": [
    "sector2017 = year2017.groupby([\"*Company's sector\"])"
   ]
  },
  {
   "cell_type": "markdown",
   "id": "5c47f3b5-a49b-4da4-9d2f-9401c7ffe767",
   "metadata": {},
   "source": [
    "Find \n",
    "1.the total number of companies in each sector\n",
    "2.the total carbon footprint for each sector\n",
    "3.sort by highest carbon footprint"
   ]
  },
  {
   "cell_type": "code",
   "execution_count": 29,
   "id": "30d16814-0846-4b89-b4ea-39816b10682e",
   "metadata": {},
   "outputs": [
    {
     "data": {
      "text/html": [
       "<div>\n",
       "<style scoped>\n",
       "    .dataframe tbody tr th:only-of-type {\n",
       "        vertical-align: middle;\n",
       "    }\n",
       "\n",
       "    .dataframe tbody tr th {\n",
       "        vertical-align: top;\n",
       "    }\n",
       "\n",
       "    .dataframe thead tr th {\n",
       "        text-align: left;\n",
       "    }\n",
       "\n",
       "    .dataframe thead tr:last-of-type th {\n",
       "        text-align: right;\n",
       "    }\n",
       "</style>\n",
       "<table border=\"1\" class=\"dataframe\">\n",
       "  <thead>\n",
       "    <tr>\n",
       "      <th></th>\n",
       "      <th colspan=\"2\" halign=\"left\">Product's carbon footprint (PCF, kg CO2e)</th>\n",
       "    </tr>\n",
       "    <tr>\n",
       "      <th></th>\n",
       "      <th>count</th>\n",
       "      <th>sum</th>\n",
       "    </tr>\n",
       "    <tr>\n",
       "      <th>*Company's sector</th>\n",
       "      <th></th>\n",
       "      <th></th>\n",
       "    </tr>\n",
       "  </thead>\n",
       "  <tbody>\n",
       "    <tr>\n",
       "      <th>Chemicals</th>\n",
       "      <td>11</td>\n",
       "      <td>107129.0000</td>\n",
       "    </tr>\n",
       "    <tr>\n",
       "      <th>Comm. equipm. &amp; capital goods</th>\n",
       "      <td>4</td>\n",
       "      <td>94942.6724</td>\n",
       "    </tr>\n",
       "    <tr>\n",
       "      <th>Computer, IT &amp; telecom</th>\n",
       "      <td>23</td>\n",
       "      <td>22555.0860</td>\n",
       "    </tr>\n",
       "    <tr>\n",
       "      <th>Food &amp; Beverage</th>\n",
       "      <td>22</td>\n",
       "      <td>3161.4700</td>\n",
       "    </tr>\n",
       "    <tr>\n",
       "      <th>Home durables, textiles, &amp; equipment</th>\n",
       "      <td>2</td>\n",
       "      <td>740.6000</td>\n",
       "    </tr>\n",
       "  </tbody>\n",
       "</table>\n",
       "</div>"
      ],
      "text/plain": [
       "                                     Product's carbon footprint (PCF, kg CO2e)  \\\n",
       "                                                                         count   \n",
       "*Company's sector                                                                \n",
       "Chemicals                                                                   11   \n",
       "Comm. equipm. & capital goods                                                4   \n",
       "Computer, IT & telecom                                                      23   \n",
       "Food & Beverage                                                             22   \n",
       "Home durables, textiles, & equipment                                         2   \n",
       "\n",
       "                                                   \n",
       "                                              sum  \n",
       "*Company's sector                                  \n",
       "Chemicals                             107129.0000  \n",
       "Comm. equipm. & capital goods          94942.6724  \n",
       "Computer, IT & telecom                 22555.0860  \n",
       "Food & Beverage                         3161.4700  \n",
       "Home durables, textiles, & equipment     740.6000  "
      ]
     },
     "execution_count": 29,
     "metadata": {},
     "output_type": "execute_result"
    }
   ],
   "source": [
    "sector2017.agg({\"Product's carbon footprint (PCF, kg CO2e)\":['count','sum']}).sort_values(by=(\"Product's carbon footprint (PCF, kg CO2e)\",'sum'),ascending=False)"
   ]
  },
  {
   "cell_type": "code",
   "execution_count": null,
   "id": "0d2a1b7c-a67c-4857-b38b-811bfb704bc0",
   "metadata": {},
   "outputs": [],
   "source": []
  },
  {
   "cell_type": "code",
   "execution_count": null,
   "id": "282a9fd9-0325-4406-8ed8-c643f26bb1a5",
   "metadata": {},
   "outputs": [],
   "source": []
  }
 ],
 "metadata": {
  "kernelspec": {
   "display_name": "Python 3 (ipykernel)",
   "language": "python",
   "name": "python3"
  },
  "language_info": {
   "codemirror_mode": {
    "name": "ipython",
    "version": 3
   },
   "file_extension": ".py",
   "mimetype": "text/x-python",
   "name": "python",
   "nbconvert_exporter": "python",
   "pygments_lexer": "ipython3",
   "version": "3.12.0"
  }
 },
 "nbformat": 4,
 "nbformat_minor": 5
}
